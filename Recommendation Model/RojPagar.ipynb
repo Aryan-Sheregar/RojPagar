{
 "cells": [
  {
   "cell_type": "code",
   "execution_count": 1,
   "id": "3dbc2204",
   "metadata": {},
   "outputs": [],
   "source": [
    "import numpy as np\n",
    "import pandas as pd\n",
    "import sklearn\n",
    "from sklearn.feature_extraction.text import TfidfVectorizer"
   ]
  },
  {
   "cell_type": "code",
   "execution_count": 2,
   "id": "76e9583f",
   "metadata": {},
   "outputs": [],
   "source": [
    "clean = pd.read_csv(\"Final_emp_data.csv\")"
   ]
  },
  {
   "cell_type": "code",
   "execution_count": 4,
   "id": "5b61c84e",
   "metadata": {},
   "outputs": [],
   "source": [
    "tfv = TfidfVectorizer()\n",
    "tfv_matrix = tfv.fit_transform(clean['designation'])"
   ]
  },
  {
   "cell_type": "code",
   "execution_count": 5,
   "id": "96397c62",
   "metadata": {},
   "outputs": [],
   "source": [
    "from sklearn.metrics.pairwise import sigmoid_kernel"
   ]
  },
  {
   "cell_type": "code",
   "execution_count": 6,
   "id": "8172f10c",
   "metadata": {},
   "outputs": [],
   "source": [
    "sig = sigmoid_kernel(tfv_matrix,tfv_matrix)\n",
    "indices = pd.Series(clean.index,clean['Company_Name'])"
   ]
  },
  {
   "cell_type": "code",
   "execution_count": 7,
   "id": "482d272f",
   "metadata": {},
   "outputs": [],
   "source": [
    "def give_rec (Name,sig = sig):\n",
    "    idx = indices[Name]\n",
    "    sig_score = list(enumerate(sig[idx]))\n",
    "    sig_score = sorted(sig_score,key=lambda x:x[1],reverse = True)\n",
    "    sig_score = sig_score[1:11]\n",
    "    \n",
    "    job_indices = [i[0] for i in sig_score]\n",
    "    \n",
    "    return clean['Company_Name'].iloc[job_indices]"
   ]
  },
  {
   "cell_type": "code",
   "execution_count": 8,
   "id": "5c470b8c",
   "metadata": {},
   "outputs": [
    {
     "data": {
      "text/plain": [
       "141                        Chand-Sodhi\n",
       "143              Sarraf, Shah and Hora\n",
       "144                        Cherian Inc\n",
       "145                        Bansal-Vasa\n",
       "155             Sastry, Saha and Raval\n",
       "158                           Wali PLC\n",
       "161           Dalal, Kumer and Chaudry\n",
       "165                       Shanker-Rana\n",
       "166    Deshpande, Tripathi and Kapadia\n",
       "167                     Magar and Sons\n",
       "Name: Company_Name, dtype: object"
      ]
     },
     "execution_count": 8,
     "metadata": {},
     "output_type": "execute_result"
    }
   ],
   "source": [
    "give_rec('Shanker-Rana')"
   ]
  },
  {
   "cell_type": "code",
   "execution_count": 9,
   "id": "e2091760",
   "metadata": {},
   "outputs": [],
   "source": [
    "import pickle"
   ]
  },
  {
   "cell_type": "code",
   "execution_count": 13,
   "id": "be1010bd",
   "metadata": {},
   "outputs": [],
   "source": [
    "pickle.dump(sig,open('/Users/aryansheregar/Documents/VScode/Python/model.pkl','wb'))"
   ]
  },
  {
   "cell_type": "code",
   "execution_count": null,
   "id": "6b87e81b",
   "metadata": {},
   "outputs": [],
   "source": []
  }
 ],
 "metadata": {
  "kernelspec": {
   "display_name": "Python 3 (ipykernel)",
   "language": "python",
   "name": "python3"
  },
  "language_info": {
   "codemirror_mode": {
    "name": "ipython",
    "version": 3
   },
   "file_extension": ".py",
   "mimetype": "text/x-python",
   "name": "python",
   "nbconvert_exporter": "python",
   "pygments_lexer": "ipython3",
   "version": "3.11.5"
  }
 },
 "nbformat": 4,
 "nbformat_minor": 5
}
